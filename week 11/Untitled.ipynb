{
 "cells": [
  {
   "cell_type": "code",
   "execution_count": 8,
   "id": "851bed65-c116-4a54-a2af-8ba829a0252d",
   "metadata": {},
   "outputs": [
    {
     "ename": "NameError",
     "evalue": "name 'sql' is not defined",
     "output_type": "error",
     "traceback": [
      "\u001b[1;31m---------------------------------------------------------------------------\u001b[0m",
      "\u001b[1;31mNameError\u001b[0m                                 Traceback (most recent call last)",
      "Cell \u001b[1;32mIn[8], line 14\u001b[0m\n\u001b[0;32m     11\u001b[0m connection \u001b[38;5;241m=\u001b[39m psycopg2\u001b[38;5;241m.\u001b[39mconnect(\u001b[38;5;241m*\u001b[39m\u001b[38;5;241m*\u001b[39mdb_params)\n\u001b[0;32m     13\u001b[0m connection \u001b[38;5;241m=\u001b[39m connection\u001b[38;5;241m.\u001b[39mcursor()\n\u001b[1;32m---> 14\u001b[0m create_db_query \u001b[38;5;241m=\u001b[39m sql\u001b[38;5;241m.\u001b[39midentifier(\u001b[38;5;124m\"\u001b[39m\u001b[38;5;124mCREATE DATABASE \u001b[39m\u001b[38;5;132;01m{}\u001b[39;00m\u001b[38;5;124m\"\u001b[39m)\u001b[38;5;241m.\u001b[39mformat(sql\u001b[38;5;241m.\u001b[39mIdentifier(new_dbname))\n\u001b[0;32m     15\u001b[0m cursor\u001b[38;5;241m.\u001b[39mexecuet(create_db_query)\n\u001b[0;32m     16\u001b[0m cursor\u001b[38;5;241m.\u001b[39mclose()\n",
      "\u001b[1;31mNameError\u001b[0m: name 'sql' is not defined"
     ]
    }
   ],
   "source": [
    "import psycopg2\n",
    "db_params = {'dbname': 'postgres',\n",
    "    'user': 'postgres',\n",
    "    'password': 'cos101',\n",
    "    'host': 'localhost',\n",
    "    'port': '5432'\n",
    "            }\n",
    "#CREATION OF TABLE\n",
    "New_dbname = \"Paystack_Team\"\n",
    "\n",
    "connection = psycopg2.connect(**db_params)\n",
    "\n",
    "connection = connection.cursor()\n",
    "create_db_query = sql.identifier(\"CREATE DATABASE {}\").format(sql.Identifier(new_dbname))\n",
    "cursor.execuet(create_db_query)\n",
    "cursor.close()\n",
    "connection.close\n",
    "\n"
   ]
  },
  {
   "cell_type": "code",
   "execution_count": null,
   "id": "74e19b80-5962-4f5a-8b4b-2dae7203c648",
   "metadata": {},
   "outputs": [],
   "source": []
  },
  {
   "cell_type": "code",
   "execution_count": null,
   "id": "2833b1ae-0bfc-42ad-b63a-64735424d5ef",
   "metadata": {},
   "outputs": [],
   "source": []
  },
  {
   "cell_type": "code",
   "execution_count": null,
   "id": "ad9ebced-b449-4c31-ad75-88fb7d51585e",
   "metadata": {},
   "outputs": [],
   "source": []
  }
 ],
 "metadata": {
  "kernelspec": {
   "display_name": "Python 3 (ipykernel)",
   "language": "python",
   "name": "python3"
  },
  "language_info": {
   "codemirror_mode": {
    "name": "ipython",
    "version": 3
   },
   "file_extension": ".py",
   "mimetype": "text/x-python",
   "name": "python",
   "nbconvert_exporter": "python",
   "pygments_lexer": "ipython3",
   "version": "3.11.7"
  }
 },
 "nbformat": 4,
 "nbformat_minor": 5
}
