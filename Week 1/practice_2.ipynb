{
 "cells": [
  {
   "cell_type": "code",
   "execution_count": 1,
   "id": "56fe8b19-ec41-432c-a1da-8525961f2f82",
   "metadata": {},
   "outputs": [
    {
     "name": "stdout",
     "output_type": "stream",
     "text": [
      "Hi my name is Matthew. I am string\n",
      "<class 'str'>\n",
      "Hi my name is Precious. I am also a string\n",
      "<class 'str'>\n"
     ]
    }
   ],
   "source": [
    "# Python prgram tprint strings and type\n",
    "str1 = \"Hi my name is Matthew. I am string\"\n",
    "str2 = 'Hi my name is Precious. I am also a string'\n",
    "\n",
    "# displaying string str1 and its type\n",
    "print(str1)\n",
    "print(type(str1))\n",
    "\n",
    "# displaying string str2 and its type\n",
    "print(str2)\n",
    "print(type(str2))"
   ]
  },
  {
   "cell_type": "code",
   "execution_count": null,
   "id": "c66d2bc0-02dc-4612-b0fe-06f3eced08c3",
   "metadata": {},
   "outputs": [],
   "source": []
  }
 ],
 "metadata": {
  "kernelspec": {
   "display_name": "Python 3 (ipykernel)",
   "language": "python",
   "name": "python3"
  },
  "language_info": {
   "codemirror_mode": {
    "name": "ipython",
    "version": 3
   },
   "file_extension": ".py",
   "mimetype": "text/x-python",
   "name": "python",
   "nbconvert_exporter": "python",
   "pygments_lexer": "ipython3",
   "version": "3.11.7"
  }
 },
 "nbformat": 4,
 "nbformat_minor": 5
}
