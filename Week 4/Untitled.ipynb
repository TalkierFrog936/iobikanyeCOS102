{
 "cells": [
  {
   "cell_type": "code",
   "execution_count": 1,
   "id": "705e939d-2530-41bd-93f6-4a1cee7c3652",
   "metadata": {},
   "outputs": [
    {
     "name": "stdin",
     "output_type": "stream",
     "text": [
      "enter name of the city 1:  Lagos\n",
      "enter name of city 2:   imo\n"
     ]
    },
    {
     "name": "stdout",
     "output_type": "stream",
     "text": [
      "The name of City 1 after swapping isimo\n",
      "The name of city 2 after swapping isLagos\n"
     ]
    }
   ],
   "source": [
    "city_1 = input('enter name of the city 1: ')\n",
    "city_2 = input('enter name of city 2:  ')\n",
    "\n",
    "temp = city_1\n",
    "city_1 = city_2\n",
    "city_2 = temp\n",
    "\n",
    "print(f\"The name of City 1 after swapping is: {city_1}\")\n",
    "print(f\"The name of city 2 after swapping is: {city_2}\")\n"
   ]
  },
  {
   "cell_type": "code",
   "execution_count": 2,
   "id": "7a9529de-4e2e-4abb-8f7a-922c0744f698",
   "metadata": {},
   "outputs": [
    {
     "name": "stdin",
     "output_type": "stream",
     "text": [
      "enter name of the city 1:  Lagos\n",
      "enter name of city 2:   IMo\n"
     ]
    },
    {
     "name": "stdout",
     "output_type": "stream",
     "text": [
      "The name of City 1 after swapping is: IMo\n",
      "The name of city 2 after swapping is: Lagos\n"
     ]
    }
   ],
   "source": [
    "city_1 = input('enter name of the city 1: ')\n",
    "city_2 = input('enter name of city 2:  ')\n",
    "\n",
    "temp = city_1\n",
    "city_1 = city_2\n",
    "city_2 = temp\n",
    "\n",
    "print(f\"The name of City 1 after swapping is: {city_1}\")\n",
    "print(f\"The name of city 2 after swapping is: {city_2}\")\n",
    "\n"
   ]
  },
  {
   "cell_type": "code",
   "execution_count": 8,
   "id": "6cad9aaa-28d1-4a55-93b6-54be5f38ee06",
   "metadata": {},
   "outputs": [
    {
     "name": "stdin",
     "output_type": "stream",
     "text": [
      "Enter a number:  7\n"
     ]
    },
    {
     "name": "stdout",
     "output_type": "stream",
     "text": [
      "positive number\n"
     ]
    }
   ],
   "source": [
    "num = float(input(\"Enter a number: \"))\n",
    "if num > 0:\n",
    "   print(\"positive number\")\n",
    "elif num == 0:\n",
    "     print(\"zero\")\n",
    "else:\n",
    "   print(\"negative number\")\n",
    "\n"
   ]
  },
  {
   "cell_type": "markdown",
   "id": "c95df00f-2eb2-4009-939f-291186d8f96b",
   "metadata": {},
   "source": [
    "#COUPE DE ESCRIVA 2023: FOOTBALL PICKS\n",
    "\n",
    "print(\"Welcome to the COUPE DE ESCRIVA 2023: FOOTBALL PICKS \\n\")\n",
    "\n",
    "captain = {'Madiba: '\n",
    " "
   ]
  }
 ],
 "metadata": {
  "kernelspec": {
   "display_name": "Python 3 (ipykernel)",
   "language": "python",
   "name": "python3"
  },
  "language_info": {
   "codemirror_mode": {
    "name": "ipython",
    "version": 3
   },
   "file_extension": ".py",
   "mimetype": "text/x-python",
   "name": "python",
   "nbconvert_exporter": "python",
   "pygments_lexer": "ipython3",
   "version": "3.11.7"
  }
 },
 "nbformat": 4,
 "nbformat_minor": 5
}
